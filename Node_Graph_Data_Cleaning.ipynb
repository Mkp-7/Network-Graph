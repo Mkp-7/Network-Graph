{
  "nbformat": 4,
  "nbformat_minor": 0,
  "metadata": {
    "colab": {
      "provenance": []
    },
    "kernelspec": {
      "name": "python3",
      "display_name": "Python 3"
    },
    "language_info": {
      "name": "python"
    }
  },
  "cells": [
    {
      "cell_type": "code",
      "source": [
        "from google.colab import drive\n",
        "# Mount Google Drive\n",
        "drive.mount('/content/drive')"
      ],
      "metadata": {
        "id": "UU-O2AMSSsis"
      },
      "execution_count": null,
      "outputs": []
    },
    {
      "cell_type": "code",
      "execution_count": null,
      "metadata": {
        "colab": {
          "base_uri": "https://localhost:8080/"
        },
        "id": "7kut1eZvbiNn",
        "outputId": "9f180435-e14d-45d6-dbfc-a9da53a7105f"
      },
      "outputs": [
        {
          "output_type": "stream",
          "name": "stdout",
          "text": [
            "✅ JSON saved to: /content/drive/MyDrive/MSU Collaboratory/data.json\n"
          ]
        }
      ],
      "source": [
        "import pandas as pd\n",
        "import json\n",
        "\n",
        "# Step 1: Load your CSV from Drive\n",
        "df = pd.read_excel('/content/drive/MyDrive/MSU Collaboratory/Acitivities_184_cleaned.xlsx')\n",
        "\n",
        "# Step 2: Select only relevant columns\n",
        "relevant_columns = [\n",
        "    'activity_id',\n",
        "    'activity_name',\n",
        "    'campus_partners',\n",
        "    'community_organizations',\n",
        "    'primary_contact',\n",
        "    'primary_contact_email'\n",
        "]\n",
        "df_filtered = df[relevant_columns]\n",
        "\n",
        "# Step 3: Convert to JSON\n",
        "data_json = df_filtered.to_json(orient='records', indent=2)\n",
        "\n",
        "# Step 4: Save JSON to Drive\n",
        "json_path = '/content/drive/MyDrive/MSU Collaboratory/data.json'\n",
        "with open(json_path, 'w') as f:\n",
        "    f.write(data_json)\n",
        "\n",
        "print(f\"✅ JSON saved to: {json_path}\")\n"
      ]
    },
    {
      "cell_type": "code",
      "source": [
        "df.info()"
      ],
      "metadata": {
        "id": "tjUrkl0MK_Tr",
        "outputId": "369602f0-9db1-45e6-9f91-272bf2802402",
        "colab": {
          "base_uri": "https://localhost:8080/"
        }
      },
      "execution_count": null,
      "outputs": [
        {
          "output_type": "stream",
          "name": "stdout",
          "text": [
            "<class 'pandas.core.frame.DataFrame'>\n",
            "RangeIndex: 265 entries, 0 to 264\n",
            "Data columns (total 71 columns):\n",
            " #   Column                                    Non-Null Count  Dtype  \n",
            "---  ------                                    --------------  -----  \n",
            " 0   activity_id                               265 non-null    int64  \n",
            " 1   public_issue                              265 non-null    bool   \n",
            " 2   published                                 265 non-null    bool   \n",
            " 3   external_partners                         265 non-null    bool   \n",
            " 4   activity_type                             265 non-null    object \n",
            " 5   activity_name                             265 non-null    object \n",
            " 6   start_date                                265 non-null    object \n",
            " 7   end_date                                  190 non-null    object \n",
            " 8   primary_contact                           265 non-null    object \n",
            " 9   activity_lead                             262 non-null    object \n",
            " 10  activity_owner                            253 non-null    object \n",
            " 11  primary_contact_email                     265 non-null    object \n",
            " 12  primary_contact_phone                     264 non-null    object \n",
            " 13  activity_lead_email                       262 non-null    object \n",
            " 14  activity_owner_email                      253 non-null    object \n",
            " 15  community_organizations                   265 non-null    object \n",
            " 16  unique_partners                           265 non-null    int64  \n",
            " 17  no_of_partners                            265 non-null    int64  \n",
            " 18  populations                               265 non-null    object \n",
            " 19  target_population_Age_Group               203 non-null    object \n",
            " 20  target_population_Gender                  67 non-null     object \n",
            " 21  target_population_Education               123 non-null    object \n",
            " 22  target_population_Community_Type          84 non-null     object \n",
            " 23  target_population_Ethnicity               57 non-null     object \n",
            " 24  target_population_Identity                54 non-null     object \n",
            " 25  target_population_Others                  107 non-null    object \n",
            " 26  individuals_served                        265 non-null    int64  \n",
            " 27  student_participation                     265 non-null    bool   \n",
            " 28  student_members                           265 non-null    int64  \n",
            " 29  student_hours                             265 non-null    int64  \n",
            " 30  faculty_participation                     265 non-null    bool   \n",
            " 31  no_of_faculty_partners                    265 non-null    int64  \n",
            " 32  new_faculty_count                         265 non-null    int64  \n",
            " 33  faculty_partners                          253 non-null    object \n",
            " 34  campus_partners                           263 non-null    object \n",
            " 35  Campus_Partners_Academic_Units            87 non-null     object \n",
            " 36  Campus_Partners_Administrative_Offices    139 non-null    object \n",
            " 37  Campus_Partners_Student_Services          42 non-null     object \n",
            " 38  Campus_Partners_Research_Centers          68 non-null     object \n",
            " 39  Campus_Partners_Libraries                 6 non-null      object \n",
            " 40  Campus_Partners_Facilities                22 non-null     object \n",
            " 41  focus_areas                               265 non-null    object \n",
            " 42  focus_cleaned                             265 non-null    object \n",
            " 43  focus_areas_dict                          265 non-null    object \n",
            " 44  focus_education                           178 non-null    float64\n",
            " 45  focus_social_issues                       148 non-null    float64\n",
            " 46  focus_arts_and_culture                    62 non-null     float64\n",
            " 47  focus_health_and_wellness                 130 non-null    float64\n",
            " 48  focus_environmental_sustainability        89 non-null     float64\n",
            " 49  focus_government_and_public_safety        65 non-null     float64\n",
            " 50  focus_community_and_economic_development  109 non-null    float64\n",
            " 51  focus_areas_count                         265 non-null    int64  \n",
            " 52  activity_location                         265 non-null    object \n",
            " 53  primary_site_address                      265 non-null    object \n",
            " 54  primary_site_zipcode                      250 non-null    float64\n",
            " 55  primary_site_city                         265 non-null    object \n",
            " 56  primary_site_county                       229 non-null    object \n",
            " 57  primary_site_state                        265 non-null    object \n",
            " 58  primary_site_country                      265 non-null    object \n",
            " 59  primary_site_lat                          265 non-null    float64\n",
            " 60  primary_site_long                         265 non-null    float64\n",
            " 61  faculty_members                           265 non-null    int64  \n",
            " 62  expected_ps_outputs                       235 non-null    object \n",
            " 63  expected_outcomes                         245 non-null    object \n",
            " 64  achieved_ps_outputs                       255 non-null    object \n",
            " 65  achieved_outcomes                         255 non-null    object \n",
            " 66  expected_impacts                          234 non-null    object \n",
            " 67  achieved_impacts                          257 non-null    object \n",
            " 68  activity_url                              265 non-null    object \n",
            " 69  lat_jittered                              265 non-null    float64\n",
            " 70  long_jittered                             265 non-null    float64\n",
            "dtypes: bool(5), float64(12), int64(10), object(44)\n",
            "memory usage: 138.1+ KB\n"
          ]
        }
      ]
    }
  ]
}